{
 "cells": [
  {
   "cell_type": "code",
   "execution_count": 1,
   "metadata": {},
   "outputs": [],
   "source": [
    "import numpy as np\n",
    "import seaborn as sns\n",
    "import pandas as pd\n",
    "import pyswarms as ps\n",
    "from sklearn import linear_model\n",
    "from sklearn import svm\n",
    "from sklearn.metrics import accuracy_score\n",
    "\n",
    "import pandas as pd\n",
    "import os\n",
    "import pickle\n",
    "import numpy as np\n",
    "import matplotlib.pyplot as plt\n",
    "from matplotlib import offsetbox\n",
    "from time import time\n",
    "from PIL import Image\n",
    "import glob\n",
    "import re\n",
    "from struct import *\n",
    "from skimage.transform import resize\n",
    "from sklearn.model_selection import StratifiedShuffleSplit\n",
    "from sklearn.neighbors import KNeighborsClassifier as KNN\n",
    "from sklearn.naive_bayes import GaussianNB\n",
    "from sklearn.metrics import accuracy_score\n",
    "\n",
    "%reload_ext autoreload\n",
    "%autoreload 2\n",
    "%matplotlib inline"
   ]
  },
  {
   "cell_type": "code",
   "execution_count": 2,
   "metadata": {},
   "outputs": [
    {
     "name": "stdout",
     "output_type": "stream",
     "text": [
      "(10000, 784)\n",
      "(10000,)\n",
      "(5000, 784)\n",
      "(5000,)\n"
     ]
    }
   ],
   "source": [
    "path_dataset_save = 'MNIST/10000Train_5000Test/'\n",
    "file = open(path_dataset_save+'X_train_picked.pckl','rb')\n",
    "X_train = pickle.load(file); file.close()\n",
    "file = open(path_dataset_save+'y_train_picked.pckl','rb')\n",
    "y_train = pickle.load(file); file.close()\n",
    "file = open(path_dataset_save+'X_test_picked.pckl','rb')\n",
    "X_test = pickle.load(file); file.close()\n",
    "file = open(path_dataset_save+'y_test_picked.pckl','rb')\n",
    "y_test = pickle.load(file); file.close()\n",
    "\n",
    "print(X_train.shape)\n",
    "print(y_train.shape)\n",
    "print(X_test.shape)\n",
    "print(y_test.shape)"
   ]
  },
  {
   "cell_type": "code",
   "execution_count": 3,
   "metadata": {},
   "outputs": [],
   "source": [
    "#model = linear_model.LogisticRegression()\n",
    "#model = svm.SVC(kernel='linear',C=1.0)\n",
    "#model = KNN(n_neighbors=1)\n",
    "model = GaussianNB()\n",
    "\n",
    "# Define objective function\n",
    "def f_per_particle(m, alpha):\n",
    "    \"\"\"Computes for the objective function per particle\n",
    "\n",
    "    Inputs\n",
    "    ------\n",
    "    m : numpy.ndarray\n",
    "        Binary mask that can be obtained from BinaryPSO, will\n",
    "        be used to mask features.\n",
    "    alpha: float (default is 0.5)\n",
    "        Constant weight for trading-off classifier performance\n",
    "        and number of features\n",
    "\n",
    "    Returns\n",
    "    -------\n",
    "    numpy.ndarray\n",
    "        Computed objective function\n",
    "    \"\"\"\n",
    "    total_features = X_train.shape[1]\n",
    "    # Get the subset of the features from the binary mask\n",
    "    if np.count_nonzero(m) == 0:\n",
    "        X_subset = X_train\n",
    "    else:\n",
    "        X_subset = X_train[:,m==1]\n",
    "    # Perform classification and store performance in P\n",
    "    model.fit(X_subset, y_train)\n",
    "    #P = (model.predict(X_subset) == train_y).mean() # accuracy\n",
    "    P = accuracy_score(y_train, model.predict(X_subset), normalize = True)\n",
    "    # Compute for the objective function\n",
    "    j = (alpha * (1.0 - P) + (1.0 - alpha) * (1 - (X_subset.shape[1] / total_features)))\n",
    "    #print(\"j=\" + str(j))\n",
    "    return j"
   ]
  },
  {
   "cell_type": "code",
   "execution_count": 4,
   "metadata": {},
   "outputs": [],
   "source": [
    "def f(x, alpha=0.80):\n",
    "    \"\"\"Higher-level method to do classification in the\n",
    "    whole swarm.\n",
    "\n",
    "    Inputs\n",
    "    ------\n",
    "    x: numpy.ndarray of shape (n_particles, dimensions)\n",
    "        The swarm that will perform the search\n",
    "\n",
    "    Returns\n",
    "    -------\n",
    "    numpy.ndarray of shape (n_particles, )\n",
    "        The computed loss for each particle\n",
    "    \"\"\"\n",
    "    n_particles = x.shape[0]\n",
    "    #print('n_particles=' + str(n_particles))\n",
    "    #print('x=' + str(x.shape))\n",
    "    #print(x[0])\n",
    "    j = [f_per_particle(x[i], alpha) for i in range(n_particles)]\n",
    "    #print(j)\n",
    "    return np.array(j)"
   ]
  },
  {
   "cell_type": "code",
   "execution_count": 5,
   "metadata": {},
   "outputs": [
    {
     "name": "stderr",
     "output_type": "stream",
     "text": [
      "INFO:pyswarms.discrete.binary:Iteration 1/20, cost: 0.373565306122449\n",
      "INFO:pyswarms.discrete.binary:Iteration 2/20, cost: 0.373565306122449\n",
      "INFO:pyswarms.discrete.binary:Iteration 3/20, cost: 0.373565306122449\n",
      "INFO:pyswarms.discrete.binary:Iteration 4/20, cost: 0.373565306122449\n",
      "INFO:pyswarms.discrete.binary:Iteration 5/20, cost: 0.37232571428571426\n",
      "INFO:pyswarms.discrete.binary:Iteration 6/20, cost: 0.37232571428571426\n",
      "INFO:pyswarms.discrete.binary:Iteration 7/20, cost: 0.3673142857142857\n",
      "INFO:pyswarms.discrete.binary:Iteration 8/20, cost: 0.3673142857142857\n",
      "INFO:pyswarms.discrete.binary:Iteration 9/20, cost: 0.3673142857142857\n",
      "INFO:pyswarms.discrete.binary:Iteration 10/20, cost: 0.3673142857142857\n",
      "INFO:pyswarms.discrete.binary:Iteration 11/20, cost: 0.3673142857142857\n",
      "INFO:pyswarms.discrete.binary:Iteration 12/20, cost: 0.3673142857142857\n",
      "INFO:pyswarms.discrete.binary:Iteration 13/20, cost: 0.35986693877551024\n",
      "INFO:pyswarms.discrete.binary:Iteration 14/20, cost: 0.35986693877551024\n",
      "INFO:pyswarms.discrete.binary:Iteration 15/20, cost: 0.35986693877551024\n",
      "INFO:pyswarms.discrete.binary:Iteration 16/20, cost: 0.35986693877551024\n",
      "INFO:pyswarms.discrete.binary:Iteration 17/20, cost: 0.35662\n",
      "INFO:pyswarms.discrete.binary:Iteration 18/20, cost: 0.35263387755102044\n",
      "INFO:pyswarms.discrete.binary:Iteration 19/20, cost: 0.35263387755102044\n",
      "INFO:pyswarms.discrete.binary:Iteration 20/20, cost: 0.35263387755102044\n",
      "INFO:pyswarms.discrete.binary:================================\n",
      "Optimization finished!\n",
      "Final cost: 0.3526\n",
      "Best value: [ 0.000000 0.000000 0.000000 ...]\n",
      "\n"
     ]
    }
   ],
   "source": [
    "# Create an instance of the classifier\n",
    "#classifier = linear_model.LogisticRegression()\n",
    "# c1 = cognitive parameter\n",
    "# c2 = social parameter\n",
    "# w = inertia paramter\n",
    "# k = number of neighbors to be considered.\n",
    "# p = 1 for L1 distance, 2 for L2 distance\n",
    "\n",
    "# Initialize swarm, arbitrary\n",
    "options = {'c1': 0.5, 'c2': 0.5, 'w':0.9, 'k': 5, 'p':2}\n",
    "\n",
    "# Call instance of PSO\n",
    "dimensions = X_train.shape[1] # dimensions should be the number of features\n",
    "#optimizer.reset()\n",
    "optimizer = ps.discrete.BinaryPSO(n_particles=30, dimensions=dimensions, options=options)\n",
    "\n",
    "# Perform optimization\n",
    "cost, pos = optimizer.optimize(f, print_step=1, iters=20, verbose=2)"
   ]
  },
  {
   "cell_type": "code",
   "execution_count": 10,
   "metadata": {},
   "outputs": [
    {
     "name": "stdout",
     "output_type": "stream",
     "text": [
      "selected features = 403/784\n",
      "accuracy before FS = 53.5\n",
      "accuracy after FS = 59.419999999999995\n"
     ]
    }
   ],
   "source": [
    "print('selected features = ' + str(sum((pos == 1)*1)) + '/' + str(len(pos)))\n",
    "model.fit(X_train, y_train)\n",
    "print('accuracy before FS = ' + str(accuracy_score(y_test, model.predict(X_test), normalize = True)*100))\n",
    "X_subset = X_train[:,pos==1]\n",
    "model.fit(X_subset, y_train)\n",
    "print('accuracy after FS = ' + str(accuracy_score(y_test, model.predict(X_test[:,pos==1]), normalize = True)*100))"
   ]
  }
 ],
 "metadata": {
  "kernelspec": {
   "display_name": "Python 3",
   "language": "python",
   "name": "python3"
  },
  "language_info": {
   "codemirror_mode": {
    "name": "ipython",
    "version": 3
   },
   "file_extension": ".py",
   "mimetype": "text/x-python",
   "name": "python",
   "nbconvert_exporter": "python",
   "pygments_lexer": "ipython3",
   "version": "3.6.5"
  }
 },
 "nbformat": 4,
 "nbformat_minor": 2
}
