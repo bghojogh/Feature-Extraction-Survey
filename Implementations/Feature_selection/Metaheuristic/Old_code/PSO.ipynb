{
 "cells": [
  {
   "cell_type": "code",
   "execution_count": 1,
   "metadata": {},
   "outputs": [],
   "source": [
    "import numpy as np\n",
    "import seaborn as sns\n",
    "import pandas as pd\n",
    "import pyswarms as ps\n",
    "from sklearn import linear_model\n",
    "from sklearn import svm\n",
    "from sklearn.metrics import accuracy_score\n",
    "#import cantools\n",
    "%reload_ext autoreload\n",
    "%autoreload 2\n",
    "%matplotlib inline"
   ]
  },
  {
   "cell_type": "code",
   "execution_count": 2,
   "metadata": {},
   "outputs": [],
   "source": [
    "def load(fname):\n",
    "    lines = []\n",
    "    with open(fname) as file:\n",
    "        lines = file.readlines()\n",
    "        lines = [x.strip() for x in lines] \n",
    "\n",
    "    flag = False\n",
    "    X = []\n",
    "    Y = []\n",
    "    #q = []\n",
    "    for line in lines:\n",
    "        if ');' in line: flag = False\n",
    "        if flag:\n",
    "            case = line.split(',')\n",
    "            y = case[0][1:].strip()\n",
    "            t = case[len(case)-1]\n",
    "            x = case[1:(len(case)-1)] + [t[:len(t)-1]]\n",
    "            X.append(x)\n",
    "            Y.append(y)\n",
    "            #q.append(line)\n",
    "        if 'cases = (' in line: flag = True\n",
    "    X = np.array([[e.strip() for e in x] for x in X])\n",
    "    Y = np.array(Y)\n",
    "    \n",
    "    cols_delete = []\n",
    "    for col in range(X.shape[1]):\n",
    "        if sum((X[:,col] == '?')*1) == X.shape[0]:\n",
    "            cols_delete.append(col)\n",
    "\n",
    "    X = np.delete(X, cols_delete, axis=1)\n",
    "    X[X == '?'] = 0\n",
    "    #ds = pd.DataFrame(X)\n",
    "    #ds['target'] = pd.Series(Y)\n",
    "    #ds['target-fac'] = pd.factorize(ds['target'])[0]\n",
    "    #return ds\n",
    "    return X,Y"
   ]
  },
  {
   "cell_type": "code",
   "execution_count": 3,
   "metadata": {},
   "outputs": [],
   "source": [
    "# ------------------------------------------------------------------------------------------------------\n",
    "# Load and prep data\n",
    "# ------------------------------------------------------------------------------------------------------"
   ]
  },
  {
   "cell_type": "code",
   "execution_count": 4,
   "metadata": {},
   "outputs": [
    {
     "name": "stdout",
     "output_type": "stream",
     "text": [
      "(78, 24188)\n",
      "(19, 24188)\n"
     ]
    }
   ],
   "source": [
    "train_X, train_y = load(fname='BreastCancer/breastCancer_Train.dbc')\n",
    "test_X, test_y = load(fname='BreastCancer/breastCancer_Test.dbc')\n",
    "print(train_X.shape)\n",
    "print(test_X.shape)"
   ]
  },
  {
   "cell_type": "code",
   "execution_count": 14,
   "metadata": {},
   "outputs": [
    {
     "data": {
      "text/plain": [
       "array([['-0.299', '0.093', '-0.215', ..., '0.215', '0.307', '0.321'],\n",
       "       ['-0.081', '0.0090', '-0.091', ..., '-0.07', '-0.209', '0.105'],\n",
       "       ['-0.125', '0.07', '-0.0060', ..., '0.026', '-0.822', '0.199'],\n",
       "       ...,\n",
       "       ['0.054', '0.049', '0.149', ..., '-0.05', '0.44', '0.053'],\n",
       "       ['0.0080', '0.107', '0.06', ..., '-0.031', '-0.518', '0.015'],\n",
       "       ['0.353', '0.256', '0.063', ..., '-0.16', '-0.612', '-0.076']],\n",
       "      dtype='<U7')"
      ]
     },
     "execution_count": 14,
     "metadata": {},
     "output_type": "execute_result"
    }
   ],
   "source": [
    "train_X"
   ]
  },
  {
   "cell_type": "code",
   "execution_count": 13,
   "metadata": {},
   "outputs": [
    {
     "name": "stdout",
     "output_type": "stream",
     "text": [
      "43.58974358974359\n",
      "56.41025641025641\n"
     ]
    }
   ],
   "source": [
    "print(sum((train_y == 'relapse')*1)*100/len(train_y))\n",
    "print(sum((train_y == 'non-relapse')*1)*100/len(train_y))"
   ]
  },
  {
   "cell_type": "code",
   "execution_count": 5,
   "metadata": {},
   "outputs": [],
   "source": [
    "#model = linear_model.LogisticRegression()\n",
    "model = svm.SVC(kernel='linear',C=1.0)\n",
    "\n",
    "# Define objective function\n",
    "def f_per_particle(m, alpha):\n",
    "    \"\"\"Computes for the objective function per particle\n",
    "\n",
    "    Inputs\n",
    "    ------\n",
    "    m : numpy.ndarray\n",
    "        Binary mask that can be obtained from BinaryPSO, will\n",
    "        be used to mask features.\n",
    "    alpha: float (default is 0.5)\n",
    "        Constant weight for trading-off classifier performance\n",
    "        and number of features\n",
    "\n",
    "    Returns\n",
    "    -------\n",
    "    numpy.ndarray\n",
    "        Computed objective function\n",
    "    \"\"\"\n",
    "    total_features = train_X.shape[1]\n",
    "    # Get the subset of the features from the binary mask\n",
    "    if np.count_nonzero(m) == 0:\n",
    "        X_subset = train_X\n",
    "    else:\n",
    "        X_subset = train_X[:,m==1]\n",
    "    # Perform classification and store performance in P\n",
    "    model.fit(X_subset, train_y)\n",
    "    #P = (model.predict(X_subset) == train_y).mean() # accuracy\n",
    "    P = accuracy_score(train_y, model.predict(X_subset), normalize = True)\n",
    "    # Compute for the objective function\n",
    "    j = (alpha * (1.0 - P) + (1.0 - alpha) * (1 - (X_subset.shape[1] / total_features)))\n",
    "\n",
    "    return j"
   ]
  },
  {
   "cell_type": "code",
   "execution_count": 6,
   "metadata": {},
   "outputs": [],
   "source": [
    "def f(x, alpha=0.88):\n",
    "    \"\"\"Higher-level method to do classification in the\n",
    "    whole swarm.\n",
    "\n",
    "    Inputs\n",
    "    ------\n",
    "    x: numpy.ndarray of shape (n_particles, dimensions)\n",
    "        The swarm that will perform the search\n",
    "\n",
    "    Returns\n",
    "    -------\n",
    "    numpy.ndarray of shape (n_particles, )\n",
    "        The computed loss for each particle\n",
    "    \"\"\"\n",
    "    n_particles = x.shape[0]\n",
    "    #print('n_particles=' + str(n_particles))\n",
    "    #print('x=' + str(x.shape))\n",
    "    #print(x[0])\n",
    "    j = [f_per_particle(x[i], alpha) for i in range(n_particles)]\n",
    "    return np.array(j)"
   ]
  },
  {
   "cell_type": "code",
   "execution_count": 7,
   "metadata": {},
   "outputs": [],
   "source": [
    "# ------------------------------------------------------------------------------------------------------\n",
    "# Run PSO\n",
    "# ------------------------------------------------------------------------------------------------------"
   ]
  },
  {
   "cell_type": "code",
   "execution_count": 8,
   "metadata": {},
   "outputs": [
    {
     "name": "stderr",
     "output_type": "stream",
     "text": [
      "INFO:pyswarms.discrete.binary:Iteration 1/10, cost: 0.0591913345460559\n",
      "INFO:pyswarms.discrete.binary:Iteration 3/10, cost: 0.046833140400198446\n",
      "INFO:pyswarms.discrete.binary:Iteration 5/10, cost: 0.046833140400198446\n",
      "INFO:pyswarms.discrete.binary:Iteration 7/10, cost: 0.046833140400198446\n",
      "INFO:pyswarms.discrete.binary:Iteration 9/10, cost: 0.046833140400198446\n",
      "INFO:pyswarms.discrete.binary:================================\n",
      "Optimization finished!\n",
      "Final cost: 0.0468\n",
      "Best value: [ 1.000000 1.000000 1.000000 ...]\n",
      "\n"
     ]
    }
   ],
   "source": [
    "# Create an instance of the classifier\n",
    "#classifier = linear_model.LogisticRegression()\n",
    "\n",
    "# Initialize swarm, arbitrary\n",
    "options = {'c1': 0.5, 'c2': 0.5, 'w':0.9, 'k': 30, 'p':2}\n",
    "\n",
    "# Call instance of PSO\n",
    "dimensions = train_X.shape[1] # dimensions should be the number of features\n",
    "#optimizer.reset()\n",
    "optimizer = ps.discrete.BinaryPSO(n_particles=30, dimensions=dimensions, options=options)\n",
    "\n",
    "# Perform optimization\n",
    "cost, pos = optimizer.optimize(f, print_step=2, iters=10, verbose=2)"
   ]
  },
  {
   "cell_type": "code",
   "execution_count": 13,
   "metadata": {},
   "outputs": [
    {
     "name": "stdout",
     "output_type": "stream",
     "text": [
      "0.6089383165205887\n",
      "14729\n"
     ]
    }
   ],
   "source": [
    "print(sum((pos == 1)*1) / len(pos))\n",
    "print(sum((pos == 1)*1))"
   ]
  }
 ],
 "metadata": {
  "kernelspec": {
   "display_name": "Python 3",
   "language": "python",
   "name": "python3"
  },
  "language_info": {
   "codemirror_mode": {
    "name": "ipython",
    "version": 3
   },
   "file_extension": ".py",
   "mimetype": "text/x-python",
   "name": "python",
   "nbconvert_exporter": "python",
   "pygments_lexer": "ipython3",
   "version": "3.6.5"
  }
 },
 "nbformat": 4,
 "nbformat_minor": 2
}
